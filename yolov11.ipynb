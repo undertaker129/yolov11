# Yolov11을 이용하여 만든 영상





{
  "nbformat": 4,
  "nbformat_minor": 0,
  "metadata": {
    "colab": {
      "provenance": [],
      "authorship_tag": "ABX9TyOqWcFMLieudLayc1BE7G4v",
      "include_colab_link": true
    },
    "kernelspec": {
      "name": "python3",
      "display_name": "Python 3"
    },
    "language_info": {
      "name": "python"
    }
  },
  "cells": [
    {
      "cell_type": "markdown",
      "metadata": {
        "id": "view-in-github",
        "colab_type": "text"
      },
      "source": [
        "<a href=\"https://colab.research.google.com/github/undertaker129/yolov11/blob/main/yolov11.ipynb\" target=\"_parent\"><img src=\"https://colab.research.google.com/assets/colab-badge.svg\" alt=\"Open In Colab\"/></a>"
      ]
    },
    {
      "cell_type": "markdown",
      "source": [
        "YOLOv11을 이용하여 동영상 분석 객체 감지"
      ],
      "metadata": {
        "id": "AzsQs3L9r17d"
      }
    },
    {
      "cell_type": "code",
      "source": [
        "# ▶️ 1. 필요한 라이브러리 설치\n",
        "!pip install yt-dlp\n",
        "!pip install -q ultralytics opencv-python\n",
        "\n",
        "# ▶️ 2. 유튜브 영상 다운로드\n",
        "import yt_dlp\n",
        "\n",
        "url = 'https://www.youtube.com/watch?v=_Nu017oESHY'\n",
        "output_path = 'content/input_video.mp4'\n",
        "\n",
        "ydl_opts = {\n",
        "    'format': 'bestvideo[ext=mp4]+bestaudio[ext=m4a]/mp4',\n",
        "    'outtmpl': output_path,\n",
        "}\n",
        "\n",
        "with yt_dlp.YoutubeDL(ydl_opts) as ydl:\n",
        "    ydl.download([url])\n",
        "\n",
        "print(\"✅ 영상 다운로드 완료\")\n",
        "\n",
        "# ▶️ 3. YOLOv11 모델 다운로드 (n 버전 사용)\n",
        "from pathlib import Path\n",
        "model_path = Path(\"content/yolov11n.pt\")\n",
        "\n",
        "if not model_path.exists():\n",
        "    !wget -O content/yolov11n.pt https://github.com/ultralytics/assets/releases/download/v0.0.0/yolov8n.pt\n",
        "    print(\"✅ yolov11n.pt 다운로드 완료\")\n",
        "else:\n",
        "    print(\"📂 이미 yolov11n.pt가 존재함\")\n",
        "\n",
        "# ▶️ 4. 영상 인식 및 결과 저장\n",
        "from ultralytics import YOLO\n",
        "import cv2\n",
        "\n",
        "# 모델 로딩\n",
        "model = YOLO(\"content/yolov11n.pt\")\n",
        "\n",
        "# 비디오 로드\n",
        "cap = cv2.VideoCapture(\"content/input_video.mp4\")\n",
        "width = int(cap.get(cv2.CAP_PROP_FRAME_WIDTH))\n",
        "height = int(cap.get(cv2.CAP_PROP_FRAME_HEIGHT))\n",
        "fps = cap.get(cv2.CAP_PROP_FPS)\n",
        "\n",
        "# 비디오 라이터 설정\n",
        "output_video_path = \"content/output_video.mp4\"\n",
        "fourcc = cv2.VideoWriter_fourcc(*'mp4v')\n",
        "out = cv2.VideoWriter(output_video_path, fourcc, fps, (width, height))\n",
        "\n",
        "while True:\n",
        "    ret, frame = cap.read()\n",
        "    if not ret:\n",
        "        break\n",
        "\n",
        "    # YOLO 추론\n",
        "    results = model(frame, verbose=False)\n",
        "    annotated_frame = results[0].plot()\n",
        "\n",
        "    out.write(annotated_frame)\n",
        "\n",
        "cap.release()\n",
        "out.release()\n",
        "print(\"✅ 객체 인식 완료 및 영상 저장됨\")\n",
        "\n",
        "# ▶️ 5. 결과 영상 재생 (Colab에서)\n",
        "from IPython.display import Video, display\n",
        "\n",
        "print(\"▶️ 결과 영상 보기\")\n",
        "display(Video(\"content/output_video.mp4\", embed=True))\n"
      ],
      "metadata": {
        "id": "0w20ZFnrrykk",
        "outputId": "25fda664-fafa-4385-dcbd-80195c2d5722",
        "colab": {
          "base_uri": "https://localhost:8080/"
        }
      },
      "execution_count": null,
      "outputs": [
        {
          "output_type": "stream",
          "name": "stdout",
          "text": [
            "Collecting yt-dlp\n",
            "  Downloading yt_dlp-2025.4.30-py3-none-any.whl.metadata (173 kB)\n",
            "\u001b[2K     \u001b[90m━━━━━━━━━━━━━━━━━━━━━━━━━━━━━━━━━━━━━━━\u001b[0m \u001b[32m173.3/173.3 kB\u001b[0m \u001b[31m4.7 MB/s\u001b[0m eta \u001b[36m0:00:00\u001b[0m\n",
            "\u001b[?25hDownloading yt_dlp-2025.4.30-py3-none-any.whl (3.2 MB)\n",
            "\u001b[2K   \u001b[90m━━━━━━━━━━━━━━━━━━━━━━━━━━━━━━━━━━━━━━━━\u001b[0m \u001b[32m3.2/3.2 MB\u001b[0m \u001b[31m31.2 MB/s\u001b[0m eta \u001b[36m0:00:00\u001b[0m\n",
            "\u001b[?25hInstalling collected packages: yt-dlp\n",
            "Successfully installed yt-dlp-2025.4.30\n",
            "\u001b[2K   \u001b[90m━━━━━━━━━━━━━━━━━━━━━━━━━━━━━━━━━━━━━━━━\u001b[0m \u001b[32m1.0/1.0 MB\u001b[0m \u001b[31m52.5 MB/s\u001b[0m eta \u001b[36m0:00:00\u001b[0m\n",
            "\u001b[2K   \u001b[91m━━━━━━━━━━━━━━━━━\u001b[0m\u001b[91m╸\u001b[0m\u001b[90m━━━━━━━━━━━━━━━━━━━━━━\u001b[0m \u001b[32m162.7/363.4 MB\u001b[0m \u001b[31m4.2 MB/s\u001b[0m eta \u001b[36m0:00:48\u001b[0m"
          ]
        }
      ]
    }
  ]
}
