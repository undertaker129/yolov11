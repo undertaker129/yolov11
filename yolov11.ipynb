{
  "nbformat": 4,
  "nbformat_minor": 0,
  "metadata": {
    "colab": {
      "provenance": [],
      "authorship_tag": "ABX9TyPZ/0bEiIKA6iH5Y0F1Zjrn",
      "include_colab_link": true
    },
    "kernelspec": {
      "name": "python3",
      "display_name": "Python 3"
    },
    "language_info": {
      "name": "python"
    }
  },
  "cells": [
    {
      "cell_type": "markdown",
      "metadata": {
        "id": "view-in-github",
        "colab_type": "text"
      },
      "source": [
        "<a href=\"https://colab.research.google.com/github/undertaker129/yolov11/blob/main/yolov11.ipynb\" target=\"_parent\"><img src=\"https://colab.research.google.com/assets/colab-badge.svg\" alt=\"Open In Colab\"/></a>"
      ]
    },
    {
      "cell_type": "markdown",
      "source": [
        "yt-dlp 설치"
      ],
      "metadata": {
        "id": "5dTGverkh2TJ"
      }
    },
    {
      "cell_type": "code",
      "source": [
        "# yt-dlp 설치\n",
        "!pip install -U yt-dlp\n",
        "\n",
        "# YouTube 영상 다운로드 (영상 이름: youtube_video.mp4)\n",
        "!yt-dlp -f bestvideo+bestaudio --merge-output-format mp4 https://www.youtube.com/watch?v=_Nu017oESHY -o youtube_video.mp4\n"
      ],
      "metadata": {
        "colab": {
          "base_uri": "https://localhost:8080/"
        },
        "id": "DwsjXHg4r-qB",
        "outputId": "f8bd672b-0400-4cbe-a91f-101c6720381f"
      },
      "execution_count": null,
      "outputs": [
        {
          "output_type": "stream",
          "name": "stdout",
          "text": [
            "Requirement already satisfied: yt-dlp in /usr/local/lib/python3.11/dist-packages (2025.4.30)\n",
            "[youtube] Extracting URL: https://www.youtube.com/watch?v=_Nu017oESHY\n",
            "[youtube] _Nu017oESHY: Downloading webpage\n",
            "[youtube] _Nu017oESHY: Downloading tv client config\n",
            "[youtube] _Nu017oESHY: Downloading tv player API JSON\n",
            "[youtube] _Nu017oESHY: Downloading ios player API JSON\n",
            "[youtube] _Nu017oESHY: Downloading m3u8 information\n",
            "[info] _Nu017oESHY: Downloading 1 format(s): 299+251\n",
            "[download] youtube_video.mp4 has already been downloaded\n"
          ]
        }
      ]
    },
    {
      "cell_type": "code",
      "source": [
        "import cv2\n",
        "\n",
        "cap = cv2.VideoCapture('youtube_video.mp4')\n",
        "ret, frame = cap.read()\n",
        "if ret:\n",
        "    cv2.imwrite('frame.jpg', frame)\n",
        "    print(\"✅ 첫 프레임 추출 완료: frame.jpg\")\n",
        "else:\n",
        "    print(\"❌ 프레임 추출 실패\")\n",
        "cap.release()\n"
      ],
      "metadata": {
        "colab": {
          "base_uri": "https://localhost:8080/"
        },
        "id": "eI2ZGLKjr_mR",
        "outputId": "a2e55512-72f7-428a-f431-79b111974cab"
      },
      "execution_count": null,
      "outputs": [
        {
          "output_type": "stream",
          "name": "stdout",
          "text": [
            "✅ 첫 프레임 추출 완료: frame.jpg\n"
          ]
        }
      ]
    },
    {
      "cell_type": "code",
      "source": [
        "# YOLOv11 저장소로 이동 (필요 시 미리 clone 해놓기)\n",
        "%cd yolov11\n",
        "\n",
        "# 감지 실행\n",
        "!python detect.py --weights yolov11.pt --source ../frame.jpg --save-txt --save-conf\n"
      ],
      "metadata": {
        "colab": {
          "base_uri": "https://localhost:8080/"
        },
        "id": "PRN9svz1sBhB",
        "outputId": "c976fcde-7de7-40a1-9558-e595b8f02d27"
      },
      "execution_count": null,
      "outputs": [
        {
          "output_type": "stream",
          "name": "stdout",
          "text": [
            "[Errno 2] No such file or directory: 'yolov11'\n",
            "/content\n",
            "python3: can't open file '/content/detect.py': [Errno 2] No such file or directory\n"
          ]
        }
      ]
    },
    {
      "cell_type": "code",
      "source": [
        "from IPython.display import Image, display\n",
        "import glob\n",
        "\n",
        "result_images = glob.glob('runs/detect/*/frame.jpg')\n",
        "if result_images:\n",
        "    display(Image(filename=result_images[0]))\n",
        "else:\n",
        "    print(\"❌ 결과 이미지가 없습니다.\")\n"
      ],
      "metadata": {
        "colab": {
          "base_uri": "https://localhost:8080/"
        },
        "id": "KH-xfB4wsCbx",
        "outputId": "637d5e4d-103c-432a-c3bd-50f903a5d162"
      },
      "execution_count": null,
      "outputs": [
        {
          "output_type": "stream",
          "name": "stdout",
          "text": [
            "❌ 결과 이미지가 없습니다.\n"
          ]
        }
      ]
    }
  ]
}